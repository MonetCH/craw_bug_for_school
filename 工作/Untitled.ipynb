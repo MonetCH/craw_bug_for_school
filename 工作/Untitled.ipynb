{
 "cells": [
  {
   "cell_type": "code",
   "execution_count": 21,
   "metadata": {},
   "outputs": [],
   "source": [
    "##錄取序\n",
    "\n",
    "from bs4 import BeautifulSoup\n",
    "import pandas as pd\n",
    "import requests\n",
    "import re\n",
    "\n",
    "url = 'https://www.com.tw/cross/check_150012_NO_1_107_0_3.html'\n",
    "page =requests.get(url)\n",
    "soup = BeautifulSoup(page.text,'lxml')\n",
    "all_tbody = soup.find_all('tbody',{'bgcolor':\"#DEDEDC\"})\n",
    "for link in soup.find_all('div',{'class':'leftred'}):\n",
    "    title = link.string\n",
    "#     print(title)\n",
    "for i in all_tbody:\n",
    "    print(i)"
   ]
  },
  {
   "cell_type": "code",
   "execution_count": 16,
   "metadata": {},
   "outputs": [
    {
     "data": {
      "text/plain": [
       "[]"
      ]
     },
     "execution_count": 16,
     "metadata": {},
     "output_type": "execute_result"
    }
   ],
   "source": [
    "all_img = soup.find_all('div',{'img'})\n",
    "all_img"
   ]
  }
 ],
 "metadata": {
  "kernelspec": {
   "display_name": "Python 3",
   "language": "python",
   "name": "python3"
  },
  "language_info": {
   "codemirror_mode": {
    "name": "ipython",
    "version": 3
   },
   "file_extension": ".py",
   "mimetype": "text/x-python",
   "name": "python",
   "nbconvert_exporter": "python",
   "pygments_lexer": "ipython3",
   "version": "3.7.1"
  }
 },
 "nbformat": 4,
 "nbformat_minor": 2
}
